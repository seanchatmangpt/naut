{
 "cells": [
  {
   "cell_type": "markdown",
   "id": "0",
   "metadata": {},
   "source": [
    "# Backtest: Binance OrderBook data\n",
    "\n",
    "Tutorial for [NautilusTrader](https://nautilustrader.io/docs/) a high-performance algorithmic trading platform and event driven backtester.\n",
    "\n",
    "[View source on GitHub](https://github.com/nautechsystems/nautilus_trader/blob/develop/docs/tutorials/backtest_binance_orderbook.ipynb).\n",
    "\n",
    ":::info\n",
    "We are currently working on this tutorial.\n",
    ":::"
   ]
  },
  {
   "cell_type": "markdown",
   "id": "1",
   "metadata": {},
   "source": [
    "## Overview\n",
    "\n",
    "This tutorial runs through how to set up the data catalog and a `BacktestNode` to backtest an `OrderBookImbalance` strategy or order book data. This example requires you bring your own Binance order book data."
   ]
  },
  {
   "cell_type": "markdown",
   "id": "2",
   "metadata": {},
   "source": [
    "## Prerequisites\n",
    "\n",
    "- Python 3.11+ installed\n",
    "- [JupyterLab](https://jupyter.org/) or similar installed (`pip install -U jupyterlab`)\n",
    "- [NautilusTrader](https://pypi.org/project/nautilus_trader/) latest release installed (`pip install -U nautilus_trader`)"
   ]
  },
  {
   "cell_type": "markdown",
   "id": "3",
   "metadata": {},
   "source": [
    "## Imports\n",
    "\n",
    "We'll start with all of our imports for the remainder of this guide:"
   ]
  },
  {
   "cell_type": "code",
   "execution_count": 1,
   "id": "4",
   "metadata": {
    "execution": {
     "iopub.execute_input": "2025-06-07T01:38:08.552332Z",
     "iopub.status.busy": "2025-06-07T01:38:08.551939Z",
     "iopub.status.idle": "2025-06-07T01:38:09.286172Z",
     "shell.execute_reply": "2025-06-07T01:38:09.285838Z"
    }
   },
   "outputs": [],
   "source": [
    "import os\n",
    "import shutil\n",
    "from decimal import Decimal\n",
    "from pathlib import Path\n",
    "\n",
    "import pandas as pd\n",
    "\n",
    "from nautilus_trader.adapters.binance.loaders import BinanceOrderBookDeltaDataLoader\n",
    "from nautilus_trader.backtest.node import BacktestDataConfig\n",
    "from nautilus_trader.backtest.node import BacktestEngineConfig\n",
    "from nautilus_trader.backtest.node import BacktestNode\n",
    "from nautilus_trader.backtest.node import BacktestRunConfig\n",
    "from nautilus_trader.backtest.node import BacktestVenueConfig\n",
    "from nautilus_trader.config import ImportableStrategyConfig\n",
    "from nautilus_trader.config import LoggingConfig\n",
    "from nautilus_trader.core.datetime import dt_to_unix_nanos\n",
    "from nautilus_trader.model import OrderBookDelta\n",
    "from nautilus_trader.persistence.catalog import ParquetDataCatalog\n",
    "from nautilus_trader.persistence.wranglers import OrderBookDeltaDataWrangler\n",
    "from nautilus_trader.test_kit.providers import TestInstrumentProvider"
   ]
  },
  {
   "cell_type": "markdown",
   "id": "5",
   "metadata": {},
   "source": [
    "## Loading data"
   ]
  },
  {
   "cell_type": "code",
   "execution_count": 2,
   "id": "6",
   "metadata": {
    "execution": {
     "iopub.execute_input": "2025-06-07T01:38:09.287891Z",
     "iopub.status.busy": "2025-06-07T01:38:09.287761Z",
     "iopub.status.idle": "2025-06-07T01:38:09.289776Z",
     "shell.execute_reply": "2025-06-07T01:38:09.289478Z"
    }
   },
   "outputs": [],
   "source": [
    "# Path to your data directory, using user /Downloads as an example\n",
    "DATA_DIR = \"~/Downloads\""
   ]
  },
  {
   "cell_type": "code",
   "execution_count": 3,
   "id": "7",
   "metadata": {
    "execution": {
     "iopub.execute_input": "2025-06-07T01:38:09.291135Z",
     "iopub.status.busy": "2025-06-07T01:38:09.291025Z",
     "iopub.status.idle": "2025-06-07T01:38:09.294381Z",
     "shell.execute_reply": "2025-06-07T01:38:09.294130Z"
    }
   },
   "outputs": [
    {
     "data": {
      "text/plain": [
       "[PosixPath('/Users/sac/Downloads/Data/Binance/BTCUSDT_T_DEPTH_2022-11-01_depth_update.csv'),\n",
       " PosixPath('/Users/sac/Downloads/Data/Binance/BTCUSDT_T_DEPTH_2022-11-01_depth_snap.csv')]"
      ]
     },
     "execution_count": 3,
     "metadata": {},
     "output_type": "execute_result"
    }
   ],
   "source": [
    "data_path = Path(DATA_DIR).expanduser() / \"Data\" / \"Binance\"\n",
    "raw_files = list(data_path.iterdir())\n",
    "assert raw_files, f\"Unable to find any histdata files in directory {data_path}\"\n",
    "raw_files"
   ]
  },
  {
   "cell_type": "code",
   "execution_count": 4,
   "id": "8",
   "metadata": {
    "execution": {
     "iopub.execute_input": "2025-06-07T01:38:09.295527Z",
     "iopub.status.busy": "2025-06-07T01:38:09.295442Z",
     "iopub.status.idle": "2025-06-07T01:38:09.304892Z",
     "shell.execute_reply": "2025-06-07T01:38:09.304409Z"
    }
   },
   "outputs": [
    {
     "data": {
      "text/html": [
       "<div>\n",
       "<style scoped>\n",
       "    .dataframe tbody tr th:only-of-type {\n",
       "        vertical-align: middle;\n",
       "    }\n",
       "\n",
       "    .dataframe tbody tr th {\n",
       "        vertical-align: top;\n",
       "    }\n",
       "\n",
       "    .dataframe thead th {\n",
       "        text-align: right;\n",
       "    }\n",
       "</style>\n",
       "<table border=\"1\" class=\"dataframe\">\n",
       "  <thead>\n",
       "    <tr style=\"text-align: right;\">\n",
       "      <th></th>\n",
       "      <th>instrument_id</th>\n",
       "      <th>action</th>\n",
       "      <th>side</th>\n",
       "      <th>price</th>\n",
       "      <th>size</th>\n",
       "      <th>order_id</th>\n",
       "      <th>flags</th>\n",
       "      <th>sequence</th>\n",
       "    </tr>\n",
       "    <tr>\n",
       "      <th>timestamp</th>\n",
       "      <th></th>\n",
       "      <th></th>\n",
       "      <th></th>\n",
       "      <th></th>\n",
       "      <th></th>\n",
       "      <th></th>\n",
       "      <th></th>\n",
       "      <th></th>\n",
       "    </tr>\n",
       "  </thead>\n",
       "  <tbody>\n",
       "    <tr>\n",
       "      <th>2022-11-01 00:00:00+00:00</th>\n",
       "      <td>BTCUSDT.BINANCE</td>\n",
       "      <td>ADD</td>\n",
       "      <td>BUY</td>\n",
       "      <td>19998.0</td>\n",
       "      <td>1.152253</td>\n",
       "      <td>0</td>\n",
       "      <td>32</td>\n",
       "      <td>0</td>\n",
       "    </tr>\n",
       "    <tr>\n",
       "      <th>2022-11-01 00:00:00+00:00</th>\n",
       "      <td>BTCUSDT.BINANCE</td>\n",
       "      <td>ADD</td>\n",
       "      <td>BUY</td>\n",
       "      <td>19996.0</td>\n",
       "      <td>0.662180</td>\n",
       "      <td>0</td>\n",
       "      <td>32</td>\n",
       "      <td>0</td>\n",
       "    </tr>\n",
       "    <tr>\n",
       "      <th>2022-11-01 00:00:00+00:00</th>\n",
       "      <td>BTCUSDT.BINANCE</td>\n",
       "      <td>ADD</td>\n",
       "      <td>BUY</td>\n",
       "      <td>19994.0</td>\n",
       "      <td>0.379546</td>\n",
       "      <td>0</td>\n",
       "      <td>32</td>\n",
       "      <td>0</td>\n",
       "    </tr>\n",
       "    <tr>\n",
       "      <th>2022-11-01 00:00:00+00:00</th>\n",
       "      <td>BTCUSDT.BINANCE</td>\n",
       "      <td>ADD</td>\n",
       "      <td>BUY</td>\n",
       "      <td>19992.0</td>\n",
       "      <td>0.241150</td>\n",
       "      <td>0</td>\n",
       "      <td>32</td>\n",
       "      <td>0</td>\n",
       "    </tr>\n",
       "    <tr>\n",
       "      <th>2022-11-01 00:00:00+00:00</th>\n",
       "      <td>BTCUSDT.BINANCE</td>\n",
       "      <td>ADD</td>\n",
       "      <td>BUY</td>\n",
       "      <td>19990.0</td>\n",
       "      <td>0.155155</td>\n",
       "      <td>0</td>\n",
       "      <td>32</td>\n",
       "      <td>0</td>\n",
       "    </tr>\n",
       "  </tbody>\n",
       "</table>\n",
       "</div>"
      ],
      "text/plain": [
       "                             instrument_id action side    price      size  \\\n",
       "timestamp                                                                   \n",
       "2022-11-01 00:00:00+00:00  BTCUSDT.BINANCE    ADD  BUY  19998.0  1.152253   \n",
       "2022-11-01 00:00:00+00:00  BTCUSDT.BINANCE    ADD  BUY  19996.0  0.662180   \n",
       "2022-11-01 00:00:00+00:00  BTCUSDT.BINANCE    ADD  BUY  19994.0  0.379546   \n",
       "2022-11-01 00:00:00+00:00  BTCUSDT.BINANCE    ADD  BUY  19992.0  0.241150   \n",
       "2022-11-01 00:00:00+00:00  BTCUSDT.BINANCE    ADD  BUY  19990.0  0.155155   \n",
       "\n",
       "                           order_id  flags  sequence  \n",
       "timestamp                                             \n",
       "2022-11-01 00:00:00+00:00         0     32         0  \n",
       "2022-11-01 00:00:00+00:00         0     32         0  \n",
       "2022-11-01 00:00:00+00:00         0     32         0  \n",
       "2022-11-01 00:00:00+00:00         0     32         0  \n",
       "2022-11-01 00:00:00+00:00         0     32         0  "
      ]
     },
     "execution_count": 4,
     "metadata": {},
     "output_type": "execute_result"
    }
   ],
   "source": [
    "# First we'll load the initial order book snapshot\n",
    "path_snap = data_path / \"BTCUSDT_T_DEPTH_2022-11-01_depth_snap.csv\"\n",
    "df_snap = BinanceOrderBookDeltaDataLoader.load(path_snap)\n",
    "df_snap.head()"
   ]
  },
  {
   "cell_type": "code",
   "execution_count": 5,
   "id": "9",
   "metadata": {
    "execution": {
     "iopub.execute_input": "2025-06-07T01:38:09.306478Z",
     "iopub.status.busy": "2025-06-07T01:38:09.306334Z",
     "iopub.status.idle": "2025-06-07T01:38:15.537983Z",
     "shell.execute_reply": "2025-06-07T01:38:15.537572Z"
    }
   },
   "outputs": [
    {
     "data": {
      "text/html": [
       "<div>\n",
       "<style scoped>\n",
       "    .dataframe tbody tr th:only-of-type {\n",
       "        vertical-align: middle;\n",
       "    }\n",
       "\n",
       "    .dataframe tbody tr th {\n",
       "        vertical-align: top;\n",
       "    }\n",
       "\n",
       "    .dataframe thead th {\n",
       "        text-align: right;\n",
       "    }\n",
       "</style>\n",
       "<table border=\"1\" class=\"dataframe\">\n",
       "  <thead>\n",
       "    <tr style=\"text-align: right;\">\n",
       "      <th></th>\n",
       "      <th>instrument_id</th>\n",
       "      <th>action</th>\n",
       "      <th>side</th>\n",
       "      <th>price</th>\n",
       "      <th>size</th>\n",
       "      <th>order_id</th>\n",
       "      <th>flags</th>\n",
       "      <th>sequence</th>\n",
       "    </tr>\n",
       "    <tr>\n",
       "      <th>timestamp</th>\n",
       "      <th></th>\n",
       "      <th></th>\n",
       "      <th></th>\n",
       "      <th></th>\n",
       "      <th></th>\n",
       "      <th></th>\n",
       "      <th></th>\n",
       "      <th></th>\n",
       "    </tr>\n",
       "  </thead>\n",
       "  <tbody>\n",
       "    <tr>\n",
       "      <th>2022-11-01 00:00:00+00:00</th>\n",
       "      <td>BTCUSDT.BINANCE</td>\n",
       "      <td>UPDATE</td>\n",
       "      <td>SELL</td>\n",
       "      <td>20122.917661</td>\n",
       "      <td>0.936128</td>\n",
       "      <td>0</td>\n",
       "      <td>0</td>\n",
       "      <td>0</td>\n",
       "    </tr>\n",
       "    <tr>\n",
       "      <th>2022-11-01 00:00:00.100000+00:00</th>\n",
       "      <td>BTCUSDT.BINANCE</td>\n",
       "      <td>UPDATE</td>\n",
       "      <td>BUY</td>\n",
       "      <td>20141.613117</td>\n",
       "      <td>0.983327</td>\n",
       "      <td>0</td>\n",
       "      <td>0</td>\n",
       "      <td>0</td>\n",
       "    </tr>\n",
       "    <tr>\n",
       "      <th>2022-11-01 00:00:00.200000+00:00</th>\n",
       "      <td>BTCUSDT.BINANCE</td>\n",
       "      <td>UPDATE</td>\n",
       "      <td>SELL</td>\n",
       "      <td>20381.981632</td>\n",
       "      <td>0.886866</td>\n",
       "      <td>0</td>\n",
       "      <td>0</td>\n",
       "      <td>0</td>\n",
       "    </tr>\n",
       "    <tr>\n",
       "      <th>2022-11-01 00:00:00.300000+00:00</th>\n",
       "      <td>BTCUSDT.BINANCE</td>\n",
       "      <td>UPDATE</td>\n",
       "      <td>BUY</td>\n",
       "      <td>20274.174317</td>\n",
       "      <td>0.589417</td>\n",
       "      <td>0</td>\n",
       "      <td>0</td>\n",
       "      <td>0</td>\n",
       "    </tr>\n",
       "    <tr>\n",
       "      <th>2022-11-01 00:00:00.400000+00:00</th>\n",
       "      <td>BTCUSDT.BINANCE</td>\n",
       "      <td>UPDATE</td>\n",
       "      <td>SELL</td>\n",
       "      <td>20644.973594</td>\n",
       "      <td>0.904972</td>\n",
       "      <td>0</td>\n",
       "      <td>0</td>\n",
       "      <td>0</td>\n",
       "    </tr>\n",
       "  </tbody>\n",
       "</table>\n",
       "</div>"
      ],
      "text/plain": [
       "                                    instrument_id  action  side         price  \\\n",
       "timestamp                                                                       \n",
       "2022-11-01 00:00:00+00:00         BTCUSDT.BINANCE  UPDATE  SELL  20122.917661   \n",
       "2022-11-01 00:00:00.100000+00:00  BTCUSDT.BINANCE  UPDATE   BUY  20141.613117   \n",
       "2022-11-01 00:00:00.200000+00:00  BTCUSDT.BINANCE  UPDATE  SELL  20381.981632   \n",
       "2022-11-01 00:00:00.300000+00:00  BTCUSDT.BINANCE  UPDATE   BUY  20274.174317   \n",
       "2022-11-01 00:00:00.400000+00:00  BTCUSDT.BINANCE  UPDATE  SELL  20644.973594   \n",
       "\n",
       "                                      size  order_id  flags  sequence  \n",
       "timestamp                                                              \n",
       "2022-11-01 00:00:00+00:00         0.936128         0      0         0  \n",
       "2022-11-01 00:00:00.100000+00:00  0.983327         0      0         0  \n",
       "2022-11-01 00:00:00.200000+00:00  0.886866         0      0         0  \n",
       "2022-11-01 00:00:00.300000+00:00  0.589417         0      0         0  \n",
       "2022-11-01 00:00:00.400000+00:00  0.904972         0      0         0  "
      ]
     },
     "execution_count": 5,
     "metadata": {},
     "output_type": "execute_result"
    }
   ],
   "source": [
    "# Then we'll load the order book updates, to save time here we're limiting to 1 million rows\n",
    "path_update = data_path / \"BTCUSDT_T_DEPTH_2022-11-01_depth_update.csv\"\n",
    "nrows = 1_000_000\n",
    "df_update = BinanceOrderBookDeltaDataLoader.load(path_update, nrows=nrows)\n",
    "df_update.head()"
   ]
  },
  {
   "cell_type": "markdown",
   "id": "10",
   "metadata": {},
   "source": [
    "### Process deltas using a wrangler"
   ]
  },
  {
   "cell_type": "code",
   "execution_count": 6,
   "id": "11",
   "metadata": {
    "execution": {
     "iopub.execute_input": "2025-06-07T01:38:15.539972Z",
     "iopub.status.busy": "2025-06-07T01:38:15.539820Z",
     "iopub.status.idle": "2025-06-07T01:38:16.765453Z",
     "shell.execute_reply": "2025-06-07T01:38:16.765200Z"
    }
   },
   "outputs": [
    {
     "data": {
      "text/plain": [
       "[OrderBookDelta(instrument_id=BTCUSDT.BINANCE, action=CLEAR, order=BookOrder(side=NO_ORDER_SIDE, price=0, size=0, order_id=0), flags=0, sequence=0, ts_event=1667260800000000000, ts_init=1667260800000000000),\n",
       " OrderBookDelta(instrument_id=BTCUSDT.BINANCE, action=ADD, order=BookOrder(side=BUY, price=19998.00, size=1.152253, order_id=0), flags=32, sequence=0, ts_event=1667260800000000000, ts_init=1667260800000000000),\n",
       " OrderBookDelta(instrument_id=BTCUSDT.BINANCE, action=ADD, order=BookOrder(side=BUY, price=19996.00, size=0.662180, order_id=0), flags=32, sequence=0, ts_event=1667260800000000000, ts_init=1667260800000000000),\n",
       " OrderBookDelta(instrument_id=BTCUSDT.BINANCE, action=ADD, order=BookOrder(side=BUY, price=19994.00, size=0.379546, order_id=0), flags=32, sequence=0, ts_event=1667260800000000000, ts_init=1667260800000000000),\n",
       " OrderBookDelta(instrument_id=BTCUSDT.BINANCE, action=ADD, order=BookOrder(side=BUY, price=19992.00, size=0.241150, order_id=0), flags=32, sequence=0, ts_event=1667260800000000000, ts_init=1667260800000000000),\n",
       " OrderBookDelta(instrument_id=BTCUSDT.BINANCE, action=ADD, order=BookOrder(side=BUY, price=19990.00, size=0.155155, order_id=0), flags=32, sequence=0, ts_event=1667260800000000000, ts_init=1667260800000000000),\n",
       " OrderBookDelta(instrument_id=BTCUSDT.BINANCE, action=ADD, order=BookOrder(side=BUY, price=19988.00, size=0.075951, order_id=0), flags=32, sequence=0, ts_event=1667260800000000000, ts_init=1667260800000000000),\n",
       " OrderBookDelta(instrument_id=BTCUSDT.BINANCE, action=ADD, order=BookOrder(side=BUY, price=19986.00, size=0.056723, order_id=0), flags=32, sequence=0, ts_event=1667260800000000000, ts_init=1667260800000000000),\n",
       " OrderBookDelta(instrument_id=BTCUSDT.BINANCE, action=ADD, order=BookOrder(side=BUY, price=19984.00, size=0.028029, order_id=0), flags=32, sequence=0, ts_event=1667260800000000000, ts_init=1667260800000000000),\n",
       " OrderBookDelta(instrument_id=BTCUSDT.BINANCE, action=ADD, order=BookOrder(side=BUY, price=19982.00, size=0.016235, order_id=0), flags=32, sequence=0, ts_event=1667260800000000000, ts_init=1667260800000000000)]"
      ]
     },
     "execution_count": 6,
     "metadata": {},
     "output_type": "execute_result"
    }
   ],
   "source": [
    "BTCUSDT_BINANCE = TestInstrumentProvider.btcusdt_binance()\n",
    "wrangler = OrderBookDeltaDataWrangler(BTCUSDT_BINANCE)\n",
    "\n",
    "deltas = wrangler.process(df_snap)\n",
    "deltas += wrangler.process(df_update)\n",
    "deltas.sort(key=lambda x: x.ts_init)  # Ensure data is non-decreasing by `ts_init`\n",
    "deltas[:10]"
   ]
  },
  {
   "cell_type": "markdown",
   "id": "12",
   "metadata": {},
   "source": [
    "### Set up data catalog"
   ]
  },
  {
   "cell_type": "code",
   "execution_count": 7,
   "id": "13",
   "metadata": {
    "execution": {
     "iopub.execute_input": "2025-06-07T01:38:16.766857Z",
     "iopub.status.busy": "2025-06-07T01:38:16.766746Z",
     "iopub.status.idle": "2025-06-07T01:38:16.768812Z",
     "shell.execute_reply": "2025-06-07T01:38:16.768592Z"
    }
   },
   "outputs": [],
   "source": [
    "CATALOG_PATH = os.getcwd() + \"/catalog\"\n",
    "\n",
    "# Clear if it already exists, then create fresh\n",
    "if os.path.exists(CATALOG_PATH):\n",
    "    shutil.rmtree(CATALOG_PATH)\n",
    "os.mkdir(CATALOG_PATH)\n",
    "\n",
    "# Create a catalog instance\n",
    "catalog = ParquetDataCatalog(CATALOG_PATH)"
   ]
  },
  {
   "cell_type": "code",
   "execution_count": 8,
   "id": "14",
   "metadata": {
    "execution": {
     "iopub.execute_input": "2025-06-07T01:38:16.770015Z",
     "iopub.status.busy": "2025-06-07T01:38:16.769920Z",
     "iopub.status.idle": "2025-06-07T01:38:19.134917Z",
     "shell.execute_reply": "2025-06-07T01:38:19.134631Z"
    }
   },
   "outputs": [],
   "source": [
    "# Write instrument and ticks to catalog\n",
    "catalog.write_data([BTCUSDT_BINANCE])\n",
    "catalog.write_data(deltas)"
   ]
  },
  {
   "cell_type": "code",
   "execution_count": 9,
   "id": "15",
   "metadata": {
    "execution": {
     "iopub.execute_input": "2025-06-07T01:38:19.136435Z",
     "iopub.status.busy": "2025-06-07T01:38:19.136335Z",
     "iopub.status.idle": "2025-06-07T01:38:19.155365Z",
     "shell.execute_reply": "2025-06-07T01:38:19.155101Z"
    }
   },
   "outputs": [
    {
     "data": {
      "text/plain": [
       "[CurrencyPair(id=BTCUSDT.BINANCE, raw_symbol=BTCUSDT, asset_class=CRYPTOCURRENCY, instrument_class=SPOT, quote_currency=USDT, is_inverse=False, price_precision=2, price_increment=0.01, size_precision=6, size_increment=0.000001, multiplier=1, lot_size=None, margin_init=0, margin_maint=0, maker_fee=0.001, taker_fee=0.001, info=None)]"
      ]
     },
     "execution_count": 9,
     "metadata": {},
     "output_type": "execute_result"
    }
   ],
   "source": [
    "# Confirm the instrument was written\n",
    "catalog.instruments()"
   ]
  },
  {
   "cell_type": "code",
   "execution_count": 10,
   "id": "16",
   "metadata": {
    "execution": {
     "iopub.execute_input": "2025-06-07T01:38:19.156698Z",
     "iopub.status.busy": "2025-06-07T01:38:19.156590Z",
     "iopub.status.idle": "2025-06-07T01:38:19.443284Z",
     "shell.execute_reply": "2025-06-07T01:38:19.443023Z"
    }
   },
   "outputs": [
    {
     "name": "stdout",
     "output_type": "stream",
     "text": [
      "864041\n"
     ]
    },
    {
     "data": {
      "text/plain": [
       "[OrderBookDelta(instrument_id=BTCUSDT.BINANCE, action=CLEAR, order=BookOrder(side=NO_ORDER_SIDE, price=0.00, size=0.000000, order_id=0), flags=0, sequence=0, ts_event=1667260800000000000, ts_init=1667260800000000000),\n",
       " OrderBookDelta(instrument_id=BTCUSDT.BINANCE, action=ADD, order=BookOrder(side=BUY, price=19998.00, size=1.152253, order_id=0), flags=32, sequence=0, ts_event=1667260800000000000, ts_init=1667260800000000000),\n",
       " OrderBookDelta(instrument_id=BTCUSDT.BINANCE, action=ADD, order=BookOrder(side=BUY, price=19996.00, size=0.662180, order_id=0), flags=32, sequence=0, ts_event=1667260800000000000, ts_init=1667260800000000000),\n",
       " OrderBookDelta(instrument_id=BTCUSDT.BINANCE, action=ADD, order=BookOrder(side=BUY, price=19994.00, size=0.379546, order_id=0), flags=32, sequence=0, ts_event=1667260800000000000, ts_init=1667260800000000000),\n",
       " OrderBookDelta(instrument_id=BTCUSDT.BINANCE, action=ADD, order=BookOrder(side=BUY, price=19992.00, size=0.241150, order_id=0), flags=32, sequence=0, ts_event=1667260800000000000, ts_init=1667260800000000000),\n",
       " OrderBookDelta(instrument_id=BTCUSDT.BINANCE, action=ADD, order=BookOrder(side=BUY, price=19990.00, size=0.155155, order_id=0), flags=32, sequence=0, ts_event=1667260800000000000, ts_init=1667260800000000000),\n",
       " OrderBookDelta(instrument_id=BTCUSDT.BINANCE, action=ADD, order=BookOrder(side=BUY, price=19988.00, size=0.075951, order_id=0), flags=32, sequence=0, ts_event=1667260800000000000, ts_init=1667260800000000000),\n",
       " OrderBookDelta(instrument_id=BTCUSDT.BINANCE, action=ADD, order=BookOrder(side=BUY, price=19986.00, size=0.056723, order_id=0), flags=32, sequence=0, ts_event=1667260800000000000, ts_init=1667260800000000000),\n",
       " OrderBookDelta(instrument_id=BTCUSDT.BINANCE, action=ADD, order=BookOrder(side=BUY, price=19984.00, size=0.028029, order_id=0), flags=32, sequence=0, ts_event=1667260800000000000, ts_init=1667260800000000000),\n",
       " OrderBookDelta(instrument_id=BTCUSDT.BINANCE, action=ADD, order=BookOrder(side=BUY, price=19982.00, size=0.016235, order_id=0), flags=32, sequence=0, ts_event=1667260800000000000, ts_init=1667260800000000000)]"
      ]
     },
     "execution_count": 10,
     "metadata": {},
     "output_type": "execute_result"
    }
   ],
   "source": [
    "# Explore the available data in the catalog\n",
    "start = dt_to_unix_nanos(pd.Timestamp(\"2022-11-01\", tz=\"UTC\"))\n",
    "end =  dt_to_unix_nanos(pd.Timestamp(\"2022-11-04\", tz=\"UTC\"))\n",
    "\n",
    "deltas = catalog.order_book_deltas(start=start, end=end)\n",
    "print(len(deltas))\n",
    "deltas[:10]"
   ]
  },
  {
   "cell_type": "markdown",
   "id": "17",
   "metadata": {},
   "source": [
    "## Configure backtest"
   ]
  },
  {
   "cell_type": "code",
   "execution_count": 11,
   "id": "18",
   "metadata": {
    "execution": {
     "iopub.execute_input": "2025-06-07T01:38:19.444698Z",
     "iopub.status.busy": "2025-06-07T01:38:19.444582Z",
     "iopub.status.idle": "2025-06-07T01:38:19.450855Z",
     "shell.execute_reply": "2025-06-07T01:38:19.450600Z"
    }
   },
   "outputs": [
    {
     "data": {
      "text/plain": [
       "BacktestRunConfig(venues=[BacktestVenueConfig(name='BINANCE', oms_type='NETTING', account_type='CASH', starting_balances=['20 BTC', '100000 USDT'], base_currency=None, default_leverage=1.0, leverages=None, book_type='L2_MBP', routing=False, frozen_account=False, reject_stop_orders=True, support_gtd_orders=True, support_contingent_orders=True, use_position_ids=True, use_random_ids=False, use_reduce_only=True, bar_execution=True, bar_adaptive_high_low_ordering=False, trade_execution=False, modules=None)], data=[BacktestDataConfig(catalog_path='/Users/sac/dev/naut/catalog', data_cls=<class 'nautilus_trader.model.data.OrderBookDelta'>, catalog_fs_protocol=None, catalog_fs_storage_options=None, instrument_id=InstrumentId('BTCUSDT.BINANCE'), start_time=None, end_time=None, filter_expr=None, client_id=None, metadata=None, bar_spec=None, instrument_ids=None, bar_types=None)], engine=BacktestEngineConfig(environment=<Environment.BACKTEST: 'backtest'>, trader_id=TraderId('BACKTESTER-001'), instance_id=None, cache=None, message_bus=None, data_engine=DataEngineConfig(time_bars_interval_type='left-open', time_bars_timestamp_on_close=True, time_bars_skip_first_non_full_bar=False, time_bars_build_with_no_updates=True, time_bars_origins=None, validate_data_sequence=False, buffer_deltas=False, external_clients=None, debug=False), risk_engine=RiskEngineConfig(bypass=False, max_order_submit_rate='100/00:00:01', max_order_modify_rate='100/00:00:01', max_notional_per_order={}, debug=False), exec_engine=ExecEngineConfig(load_cache=True, manage_own_order_books=False, snapshot_orders=False, snapshot_positions=False, snapshot_positions_interval_secs=None, debug=False), portfolio=None, emulator=None, streaming=None, catalogs=[], actors=[], strategies=[ImportableStrategyConfig(strategy_path='nautilus_trader.examples.strategies.orderbook_imbalance:OrderBookImbalance', config_path='nautilus_trader.examples.strategies.orderbook_imbalance:OrderBookImbalanceConfig', config={'instrument_id': InstrumentId('BTCUSDT.BINANCE'), 'book_type': 'L2_MBP', 'max_trade_size': Decimal('1.000'), 'min_seconds_between_triggers': 1.0})], exec_algorithms=[], controller=None, load_state=False, save_state=False, loop_debug=False, logging=LoggingConfig(log_level='ERROR', log_level_file=None, log_directory=None, log_file_name=None, log_file_format=None, log_file_max_size=None, log_file_max_backup_count=5, log_colors=True, log_component_levels=None, bypass_logging=False, print_config=False, use_pyo3=False, clear_log_file=False), timeout_connection=60.0, timeout_reconciliation=30.0, timeout_portfolio=10.0, timeout_disconnection=10.0, timeout_post_stop=10.0, timeout_shutdown=5.0, run_analysis=True), chunk_size=None, dispose_on_completion=True, start=None, end=None)"
      ]
     },
     "execution_count": 11,
     "metadata": {},
     "output_type": "execute_result"
    }
   ],
   "source": [
    "instrument = catalog.instruments()[0]\n",
    "book_type = \"L2_MBP\"  # Ensure data book type matches venue book type\n",
    "\n",
    "data_configs = [BacktestDataConfig(\n",
    "        catalog_path=CATALOG_PATH,\n",
    "        data_cls=OrderBookDelta,\n",
    "        instrument_id=instrument.id,\n",
    "        # start_time=start,  # Run across all data\n",
    "        # end_time=end,  # Run across all data\n",
    "    )\n",
    "]\n",
    "\n",
    "venues_configs = [\n",
    "    BacktestVenueConfig(\n",
    "        name=\"BINANCE\",\n",
    "        oms_type=\"NETTING\",\n",
    "        account_type=\"CASH\",\n",
    "        base_currency=None,\n",
    "        starting_balances=[\"20 BTC\", \"100000 USDT\"],\n",
    "        book_type=book_type,  # <-- Venues book type\n",
    "    )\n",
    "]\n",
    "\n",
    "strategies = [\n",
    "    ImportableStrategyConfig(\n",
    "        strategy_path=\"nautilus_trader.examples.strategies.orderbook_imbalance:OrderBookImbalance\",\n",
    "        config_path=\"nautilus_trader.examples.strategies.orderbook_imbalance:OrderBookImbalanceConfig\",\n",
    "        config={\n",
    "            \"instrument_id\": instrument.id,\n",
    "            \"book_type\": book_type,\n",
    "            \"max_trade_size\": Decimal(\"1.000\"),\n",
    "            \"min_seconds_between_triggers\": 1.0,\n",
    "        },\n",
    "    ),\n",
    "]\n",
    "\n",
    "# NautilusTrader currently exceeds the rate limit for Jupyter notebook logging (stdout output),\n",
    "# this is why the `log_level` is set to \"ERROR\". If you lower this level to see\n",
    "# more logging then the notebook will hang during cell execution. A fix is currently\n",
    "# being investigated which involves either raising the configured rate limits for\n",
    "# Jupyter, or throttling the log flushing from Nautilus.\n",
    "# https://github.com/jupyterlab/jupyterlab/issues/12845\n",
    "# https://github.com/deshaw/jupyterlab-limit-output\n",
    "config = BacktestRunConfig(\n",
    "    engine=BacktestEngineConfig(\n",
    "        strategies=strategies,\n",
    "        logging=LoggingConfig(log_level=\"ERROR\"),\n",
    "    ),\n",
    "    data=data_configs,\n",
    "    venues=venues_configs,\n",
    ")\n",
    "\n",
    "config"
   ]
  },
  {
   "cell_type": "markdown",
   "id": "19",
   "metadata": {},
   "source": [
    "## Run the backtest"
   ]
  },
  {
   "cell_type": "code",
   "execution_count": 12,
   "id": "20",
   "metadata": {
    "execution": {
     "iopub.execute_input": "2025-06-07T01:38:19.452043Z",
     "iopub.status.busy": "2025-06-07T01:38:19.451967Z",
     "iopub.status.idle": "2025-06-07T01:38:33.079777Z",
     "shell.execute_reply": "2025-06-07T01:38:33.079466Z"
    }
   },
   "outputs": [],
   "source": [
    "node = BacktestNode(configs=[config])\n",
    "\n",
    "result = node.run()"
   ]
  },
  {
   "cell_type": "code",
   "execution_count": 13,
   "id": "21",
   "metadata": {
    "execution": {
     "iopub.execute_input": "2025-06-07T01:38:33.081255Z",
     "iopub.status.busy": "2025-06-07T01:38:33.081141Z",
     "iopub.status.idle": "2025-06-07T01:38:33.083343Z",
     "shell.execute_reply": "2025-06-07T01:38:33.083096Z"
    }
   },
   "outputs": [
    {
     "data": {
      "text/plain": [
       "[BacktestResult(trader_id='BACKTESTER-001', machine_id='Mac.lan', run_config_id='6daebef8f7584300be6fc965a368f598bf156e270139470efd2e45ac17dc1587', instance_id='e8ba107c-0210-4125-97b4-8a8f47e4f013', run_id='7ae752da-91d7-45db-aad8-0491f34fa0f8', run_started=1749260299845944000, run_finished=1749260313058076000, backtest_start=1667260800000000000, backtest_end=1667347199900000000, elapsed_time=86399.9, iterations=0, total_events=0, total_orders=0, total_positions=0, stats_pnls={'BTC': {'PnL (total)': 0.0, 'PnL% (total)': 0.0, 'Max Winner': 0.0, 'Avg Winner': 0.0, 'Min Winner': 0.0, 'Min Loser': 0.0, 'Avg Loser': 0.0, 'Max Loser': 0.0, 'Expectancy': 0.0, 'Win Rate': 0.0}, 'USDT': {'PnL (total)': 0.0, 'PnL% (total)': 0.0, 'Max Winner': 0.0, 'Avg Winner': 0.0, 'Min Winner': 0.0, 'Min Loser': 0.0, 'Avg Loser': 0.0, 'Max Loser': 0.0, 'Expectancy': 0.0, 'Win Rate': 0.0}}, stats_returns={'Returns Volatility (252 days)': nan, 'Average (Return)': nan, 'Average Loss (Return)': nan, 'Average Win (Return)': nan, 'Sharpe Ratio (252 days)': nan, 'Sortino Ratio (252 days)': nan, 'Profit Factor': nan, 'Risk Return Ratio': nan})]"
      ]
     },
     "execution_count": 13,
     "metadata": {},
     "output_type": "execute_result"
    }
   ],
   "source": [
    "result"
   ]
  },
  {
   "cell_type": "code",
   "execution_count": 14,
   "id": "22",
   "metadata": {
    "execution": {
     "iopub.execute_input": "2025-06-07T01:38:33.084629Z",
     "iopub.status.busy": "2025-06-07T01:38:33.084548Z",
     "iopub.status.idle": "2025-06-07T01:38:33.087467Z",
     "shell.execute_reply": "2025-06-07T01:38:33.087209Z"
    }
   },
   "outputs": [
    {
     "data": {
      "text/html": [
       "<div>\n",
       "<style scoped>\n",
       "    .dataframe tbody tr th:only-of-type {\n",
       "        vertical-align: middle;\n",
       "    }\n",
       "\n",
       "    .dataframe tbody tr th {\n",
       "        vertical-align: top;\n",
       "    }\n",
       "\n",
       "    .dataframe thead th {\n",
       "        text-align: right;\n",
       "    }\n",
       "</style>\n",
       "<table border=\"1\" class=\"dataframe\">\n",
       "  <thead>\n",
       "    <tr style=\"text-align: right;\">\n",
       "      <th></th>\n",
       "    </tr>\n",
       "  </thead>\n",
       "  <tbody>\n",
       "  </tbody>\n",
       "</table>\n",
       "</div>"
      ],
      "text/plain": [
       "Empty DataFrame\n",
       "Columns: []\n",
       "Index: []"
      ]
     },
     "execution_count": 14,
     "metadata": {},
     "output_type": "execute_result"
    }
   ],
   "source": [
    "from nautilus_trader.backtest.engine import BacktestEngine\n",
    "from nautilus_trader.model import Venue\n",
    "\n",
    "\n",
    "engine: BacktestEngine = node.get_engine(config.id)\n",
    "\n",
    "engine.trader.generate_order_fills_report()"
   ]
  },
  {
   "cell_type": "code",
   "execution_count": 15,
   "id": "23",
   "metadata": {
    "execution": {
     "iopub.execute_input": "2025-06-07T01:38:33.088786Z",
     "iopub.status.busy": "2025-06-07T01:38:33.088689Z",
     "iopub.status.idle": "2025-06-07T01:38:33.091327Z",
     "shell.execute_reply": "2025-06-07T01:38:33.091113Z"
    }
   },
   "outputs": [
    {
     "data": {
      "text/html": [
       "<div>\n",
       "<style scoped>\n",
       "    .dataframe tbody tr th:only-of-type {\n",
       "        vertical-align: middle;\n",
       "    }\n",
       "\n",
       "    .dataframe tbody tr th {\n",
       "        vertical-align: top;\n",
       "    }\n",
       "\n",
       "    .dataframe thead th {\n",
       "        text-align: right;\n",
       "    }\n",
       "</style>\n",
       "<table border=\"1\" class=\"dataframe\">\n",
       "  <thead>\n",
       "    <tr style=\"text-align: right;\">\n",
       "      <th></th>\n",
       "    </tr>\n",
       "  </thead>\n",
       "  <tbody>\n",
       "  </tbody>\n",
       "</table>\n",
       "</div>"
      ],
      "text/plain": [
       "Empty DataFrame\n",
       "Columns: []\n",
       "Index: []"
      ]
     },
     "execution_count": 15,
     "metadata": {},
     "output_type": "execute_result"
    }
   ],
   "source": [
    "engine.trader.generate_positions_report()"
   ]
  },
  {
   "cell_type": "code",
   "execution_count": 16,
   "id": "24",
   "metadata": {
    "execution": {
     "iopub.execute_input": "2025-06-07T01:38:33.092613Z",
     "iopub.status.busy": "2025-06-07T01:38:33.092518Z",
     "iopub.status.idle": "2025-06-07T01:38:33.098875Z",
     "shell.execute_reply": "2025-06-07T01:38:33.098654Z"
    }
   },
   "outputs": [
    {
     "data": {
      "text/html": [
       "<div>\n",
       "<style scoped>\n",
       "    .dataframe tbody tr th:only-of-type {\n",
       "        vertical-align: middle;\n",
       "    }\n",
       "\n",
       "    .dataframe tbody tr th {\n",
       "        vertical-align: top;\n",
       "    }\n",
       "\n",
       "    .dataframe thead th {\n",
       "        text-align: right;\n",
       "    }\n",
       "</style>\n",
       "<table border=\"1\" class=\"dataframe\">\n",
       "  <thead>\n",
       "    <tr style=\"text-align: right;\">\n",
       "      <th></th>\n",
       "      <th>total</th>\n",
       "      <th>locked</th>\n",
       "      <th>free</th>\n",
       "      <th>currency</th>\n",
       "      <th>account_id</th>\n",
       "      <th>account_type</th>\n",
       "      <th>base_currency</th>\n",
       "      <th>margins</th>\n",
       "      <th>reported</th>\n",
       "      <th>info</th>\n",
       "    </tr>\n",
       "  </thead>\n",
       "  <tbody>\n",
       "    <tr>\n",
       "      <th>2022-11-01 00:00:00+00:00</th>\n",
       "      <td>20.00000000</td>\n",
       "      <td>0E-8</td>\n",
       "      <td>20.00000000</td>\n",
       "      <td>BTC</td>\n",
       "      <td>BINANCE-001</td>\n",
       "      <td>CASH</td>\n",
       "      <td>None</td>\n",
       "      <td>[]</td>\n",
       "      <td>True</td>\n",
       "      <td>{}</td>\n",
       "    </tr>\n",
       "    <tr>\n",
       "      <th>2022-11-01 00:00:00+00:00</th>\n",
       "      <td>100000.00000000</td>\n",
       "      <td>0E-8</td>\n",
       "      <td>100000.00000000</td>\n",
       "      <td>USDT</td>\n",
       "      <td>BINANCE-001</td>\n",
       "      <td>CASH</td>\n",
       "      <td>None</td>\n",
       "      <td>[]</td>\n",
       "      <td>True</td>\n",
       "      <td>{}</td>\n",
       "    </tr>\n",
       "  </tbody>\n",
       "</table>\n",
       "</div>"
      ],
      "text/plain": [
       "                                     total locked             free currency  \\\n",
       "2022-11-01 00:00:00+00:00      20.00000000   0E-8      20.00000000      BTC   \n",
       "2022-11-01 00:00:00+00:00  100000.00000000   0E-8  100000.00000000     USDT   \n",
       "\n",
       "                            account_id account_type base_currency margins  \\\n",
       "2022-11-01 00:00:00+00:00  BINANCE-001         CASH          None      []   \n",
       "2022-11-01 00:00:00+00:00  BINANCE-001         CASH          None      []   \n",
       "\n",
       "                           reported info  \n",
       "2022-11-01 00:00:00+00:00      True   {}  \n",
       "2022-11-01 00:00:00+00:00      True   {}  "
      ]
     },
     "execution_count": 16,
     "metadata": {},
     "output_type": "execute_result"
    }
   ],
   "source": [
    "engine.trader.generate_account_report(Venue(\"BINANCE\"))"
   ]
  },
  {
   "cell_type": "code",
   "execution_count": null,
   "id": "25",
   "metadata": {},
   "outputs": [],
   "source": []
  }
 ],
 "metadata": {
  "kernelspec": {
   "display_name": "base",
   "language": "python",
   "name": "python3"
  },
  "language_info": {
   "codemirror_mode": {
    "name": "ipython",
    "version": 3
   },
   "file_extension": ".py",
   "mimetype": "text/x-python",
   "name": "python",
   "nbconvert_exporter": "python",
   "pygments_lexer": "ipython3",
   "version": "3.13.0"
  }
 },
 "nbformat": 4,
 "nbformat_minor": 5
}
